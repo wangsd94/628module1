{
 "cells": [
  {
   "cell_type": "markdown",
   "metadata": {},
   "source": [
    "# Abstract  \n",
    "\n",
    "The fat content of the human body has physiological and medical importance. It may influence morbidity and mortality, it may aIter the effectiveness of drugs and anaesthetics, and it may affect the ability to withstand exposure to cold and starvation. Thus the measurement of the total body fat provides useful information. However, accurate measurement of body fat is inconvenient and it is desirable to have easy methods of estimating body fat that are not costly. \n",
    "\n",
    "In this article, we used a data set of adult men, with which we did data cleaning, model selection regression analysis and finally found a equation. Given the length of chest, abdomen and wrist, age and adiposity, this equation will tell us the body fat. For doctors, the data needed are easy to acquire and the equation are not difficult to utilize. Therefore the equation can be very helpful when doctors serve for patients."
   ]
  },
  {
   "cell_type": "markdown",
   "metadata": {},
   "source": [
    "# Data description\n",
    "The data set we use contains measurements of 252 men's percentage of body fat and various body circumference measurements. In particular, we have age, weight, height, adiposity and circumferences of neck, chest, abdomen, hip, thigh, knee, ankle, biceps, forearm and wrist."
   ]
  },
  {
   "cell_type": "code",
   "execution_count": 434,
   "metadata": {},
   "outputs": [
    {
     "data": {
      "image/png": "[encoded data removed]",
      "text/plain": [
       "Plot with title \"\""
      ]
     },
     "metadata": {},
     "output_type": "display_data"
    }
   ],
   "source": [
    "setwd(\"E:/wisc/628/module 1\");BodyFat <- read.csv(\"BodyFat.csv\");BodyFat[,6] = BodyFat[,6]*2.54;layout(matrix(1:6,ncol=6));options(repr.plot.width=8, repr.plot.height=3)\n",
    "hist(BodyFat$BODYFAT,main=\"\");hist(BodyFat$AGE,main=\"\");hist(BodyFat$ADIPOSITY,main=\"\",breaks=20);hist(BodyFat$CHEST,main=\"\");hist(BodyFat$ABDOMEN,main=\"\");hist(BodyFat$WRIST,main=\"\")"
   ]
  },
  {
   "cell_type": "markdown",
   "metadata": {},
   "source": [
    "# Data cleaning"
   ]
  },
  {
   "cell_type": "code",
   "execution_count": 387,
   "metadata": {},
   "outputs": [
    {
     "data": {
      "text/html": [
       "<table>\n",
       "<thead><tr><th></th><th scope=col>IDNO</th><th scope=col>BODYFAT</th><th scope=col>DENSITY</th><th scope=col>AGE</th><th scope=col>WEIGHT</th><th scope=col>HEIGHT</th><th scope=col>ADIPOSITY</th><th scope=col>NECK</th><th scope=col>CHEST</th><th scope=col>ABDOMEN</th><th scope=col>HIP</th><th scope=col>THIGH</th><th scope=col>KNEE</th><th scope=col>ANKLE</th><th scope=col>BICEPS</th><th scope=col>FOREARM</th><th scope=col>WRIST</th></tr></thead>\n",
       "<tbody>\n",
       "\t<tr><th scope=row>182</th><td>182   </td><td>0     </td><td>1.1089</td><td>40    </td><td>118.5 </td><td>172.72</td><td>18.1  </td><td>33.8  </td><td>79.3  </td><td>69.4  </td><td>85    </td><td>47.2  </td><td>33.5  </td><td>20.2  </td><td>27.7  </td><td>24.6  </td><td>16.5  </td></tr>\n",
       "</tbody>\n",
       "</table>\n"
      ],
      "text/latex": [
       "\\begin{tabular}{r|lllllllllllllllll}\n",
       "  & IDNO & BODYFAT & DENSITY & AGE & WEIGHT & HEIGHT & ADIPOSITY & NECK & CHEST & ABDOMEN & HIP & THIGH & KNEE & ANKLE & BICEPS & FOREARM & WRIST\\\\\n",
       "\\hline\n",
       "\t182 & 182    & 0      & 1.1089 & 40     & 118.5  & 172.72 & 18.1   & 33.8   & 79.3   & 69.4   & 85     & 47.2   & 33.5   & 20.2   & 27.7   & 24.6   & 16.5  \\\\\n",
       "\\end{tabular}\n"
      ],
      "text/markdown": [
       "\n",
       "| <!--/--> | IDNO | BODYFAT | DENSITY | AGE | WEIGHT | HEIGHT | ADIPOSITY | NECK | CHEST | ABDOMEN | HIP | THIGH | KNEE | ANKLE | BICEPS | FOREARM | WRIST | \n",
       "|---|\n",
       "| 182 | 182    | 0      | 1.1089 | 40     | 118.5  | 172.72 | 18.1   | 33.8   | 79.3   | 69.4   | 85     | 47.2   | 33.5   | 20.2   | 27.7   | 24.6   | 16.5   | \n",
       "\n",
       "\n"
      ],
      "text/plain": [
       "    IDNO BODYFAT DENSITY AGE WEIGHT HEIGHT ADIPOSITY NECK CHEST ABDOMEN HIP\n",
       "182 182  0       1.1089  40  118.5  172.72 18.1      33.8 79.3  69.4    85 \n",
       "    THIGH KNEE ANKLE BICEPS FOREARM WRIST\n",
       "182 47.2  33.5 20.2  27.7   24.6    16.5 "
      ]
     },
     "metadata": {},
     "output_type": "display_data"
    }
   ],
   "source": [
    "BodyFat[182,]"
   ]
  },
  {
   "cell_type": "markdown",
   "metadata": {},
   "source": [
    "As we all know, a human's bodyfat can't be 0, so before doing anything we need to check whether our data set has that unrealistic problem. We found out the 182th data set actually has bodyfat equals 0. Based on the equation $100\\text{Bodyfat}=-450+\\frac{495}{\\text{Density}}$ we want to use the value of density to get the value of bodyfat, but as we try to use the equation above what we get is a negative boayfat value -3.612. Since we needs our data to be meaningful here we delete the whole 182th data set"
   ]
  },
  {
   "cell_type": "markdown",
   "metadata": {},
   "source": [
    "Since density is hard to measure which means its value is not precise and what we interested is bodyfat so that we delete the density part of our data.We need to do some data cleaning first. Notice that there are some points outside of the cloud of data, which means they are outlier candidates, that is, either leverage points or outliers in Y."
   ]
  },
  {
   "cell_type": "code",
   "execution_count": 388,
   "metadata": {},
   "outputs": [
    {
     "data": {
      "image/png": "[encoded data removed]",
      "text/plain": [
       "Plot with title \"\""
      ]
     },
     "metadata": {},
     "output_type": "display_data"
    }
   ],
   "source": [
    "model0 = lm(BODYFAT~.,data=BodyFat[-182,c(-1,-3)])\n",
    "layout(matrix(1:5, ncol=5));plot(model0,which=4);plot(model0);options(warn=-1)\n",
    "options(repr.plot.width=7, repr.plot.height=1)"
   ]
  },
  {
   "cell_type": "code",
   "execution_count": 389,
   "metadata": {},
   "outputs": [
    {
     "data": {
      "text/html": [
       "<table>\n",
       "<thead><tr><th></th><th scope=col>IDNO</th><th scope=col>BODYFAT</th><th scope=col>DENSITY</th><th scope=col>AGE</th><th scope=col>WEIGHT</th><th scope=col>HEIGHT</th><th scope=col>ADIPOSITY</th><th scope=col>NECK</th><th scope=col>CHEST</th><th scope=col>ABDOMEN</th><th scope=col>HIP</th><th scope=col>THIGH</th><th scope=col>KNEE</th><th scope=col>ANKLE</th><th scope=col>BICEPS</th><th scope=col>FOREARM</th><th scope=col>WRIST</th></tr></thead>\n",
       "<tbody>\n",
       "\t<tr><th scope=row>42</th><td>42   </td><td>31.7 </td><td>1.025</td><td>44   </td><td>205  </td><td>74.93</td><td>29.9 </td><td>36.6 </td><td>106  </td><td>104.3</td><td>115.5</td><td>70.6 </td><td>42.5 </td><td>23.7 </td><td>33.6 </td><td>28.7 </td><td>17.4 </td></tr>\n",
       "</tbody>\n",
       "</table>\n"
      ],
      "text/latex": [
       "\\begin{tabular}{r|lllllllllllllllll}\n",
       "  & IDNO & BODYFAT & DENSITY & AGE & WEIGHT & HEIGHT & ADIPOSITY & NECK & CHEST & ABDOMEN & HIP & THIGH & KNEE & ANKLE & BICEPS & FOREARM & WRIST\\\\\n",
       "\\hline\n",
       "\t42 & 42    & 31.7  & 1.025 & 44    & 205   & 74.93 & 29.9  & 36.6  & 106   & 104.3 & 115.5 & 70.6  & 42.5  & 23.7  & 33.6  & 28.7  & 17.4 \\\\\n",
       "\\end{tabular}\n"
      ],
      "text/markdown": [
       "\n",
       "| <!--/--> | IDNO | BODYFAT | DENSITY | AGE | WEIGHT | HEIGHT | ADIPOSITY | NECK | CHEST | ABDOMEN | HIP | THIGH | KNEE | ANKLE | BICEPS | FOREARM | WRIST | \n",
       "|---|\n",
       "| 42 | 42    | 31.7  | 1.025 | 44    | 205   | 74.93 | 29.9  | 36.6  | 106   | 104.3 | 115.5 | 70.6  | 42.5  | 23.7  | 33.6  | 28.7  | 17.4  | \n",
       "\n",
       "\n"
      ],
      "text/plain": [
       "   IDNO BODYFAT DENSITY AGE WEIGHT HEIGHT ADIPOSITY NECK CHEST ABDOMEN HIP  \n",
       "42 42   31.7    1.025   44  205    74.93  29.9      36.6 106   104.3   115.5\n",
       "   THIGH KNEE ANKLE BICEPS FOREARM WRIST\n",
       "42 70.6  42.5 23.7  33.6   28.7    17.4 "
      ]
     },
     "metadata": {},
     "output_type": "display_data"
    }
   ],
   "source": [
    "BodyFat[42,]"
   ]
  },
  {
   "cell_type": "markdown",
   "metadata": {},
   "source": [
    "We noticed the fact that the cook's distance of 42th data is very large. The rule of thumb is we classify as leverages anything above 4/(n-p). So the 42the data is a high leverage point and we consider it as a potential outlier. Then we go back to the raw data and find out the hight is 29.5 which is extremely low. Since we want our model to be representative and a man with that height is abnormal so we decide to delete this point."
   ]
  },
  {
   "cell_type": "code",
   "execution_count": 390,
   "metadata": {},
   "outputs": [
    {
     "data": {
      "image/png": "[encoded data removed]",
      "text/plain": [
       "Plot with title \"\""
      ]
     },
     "metadata": {},
     "output_type": "display_data"
    }
   ],
   "source": [
    "layout(matrix(1:5, ncol=5));options(repr.plot.width=7, repr.plot.height=2);\n",
    "plot(model1,which=4);abline(h=4/(250-14),lty=2);plot(model1)"
   ]
  },
  {
   "cell_type": "code",
   "execution_count": 391,
   "metadata": {
    "scrolled": true
   },
   "outputs": [
    {
     "data": {
      "text/html": [
       "<table>\n",
       "<thead><tr><th></th><th scope=col>IDNO</th><th scope=col>BODYFAT</th><th scope=col>DENSITY</th><th scope=col>AGE</th><th scope=col>WEIGHT</th><th scope=col>HEIGHT</th><th scope=col>ADIPOSITY</th><th scope=col>NECK</th><th scope=col>CHEST</th><th scope=col>ABDOMEN</th><th scope=col>HIP</th><th scope=col>THIGH</th><th scope=col>KNEE</th><th scope=col>ANKLE</th><th scope=col>BICEPS</th><th scope=col>FOREARM</th><th scope=col>WRIST</th></tr></thead>\n",
       "<tbody>\n",
       "\t<tr><th scope=row>39</th><td>39     </td><td>33.8   </td><td>1.0202 </td><td>46     </td><td>363.15 </td><td>183.515</td><td>48.9   </td><td>51.2   </td><td>136.2  </td><td>148.1  </td><td>147.7  </td><td>87.3   </td><td>49.1   </td><td>29.6   </td><td>45     </td><td>29     </td><td>21.4   </td></tr>\n",
       "</tbody>\n",
       "</table>\n"
      ],
      "text/latex": [
       "\\begin{tabular}{r|lllllllllllllllll}\n",
       "  & IDNO & BODYFAT & DENSITY & AGE & WEIGHT & HEIGHT & ADIPOSITY & NECK & CHEST & ABDOMEN & HIP & THIGH & KNEE & ANKLE & BICEPS & FOREARM & WRIST\\\\\n",
       "\\hline\n",
       "\t39 & 39      & 33.8    & 1.0202  & 46      & 363.15  & 183.515 & 48.9    & 51.2    & 136.2   & 148.1   & 147.7   & 87.3    & 49.1    & 29.6    & 45      & 29      & 21.4   \\\\\n",
       "\\end{tabular}\n"
      ],
      "text/markdown": [
       "\n",
       "| <!--/--> | IDNO | BODYFAT | DENSITY | AGE | WEIGHT | HEIGHT | ADIPOSITY | NECK | CHEST | ABDOMEN | HIP | THIGH | KNEE | ANKLE | BICEPS | FOREARM | WRIST | \n",
       "|---|\n",
       "| 39 | 39      | 33.8    | 1.0202  | 46      | 363.15  | 183.515 | 48.9    | 51.2    | 136.2   | 148.1   | 147.7   | 87.3    | 49.1    | 29.6    | 45      | 29      | 21.4    | \n",
       "\n",
       "\n"
      ],
      "text/plain": [
       "   IDNO BODYFAT DENSITY AGE WEIGHT HEIGHT  ADIPOSITY NECK CHEST ABDOMEN HIP  \n",
       "39 39   33.8    1.0202  46  363.15 183.515 48.9      51.2 136.2 148.1   147.7\n",
       "   THIGH KNEE ANKLE BICEPS FOREARM WRIST\n",
       "39 87.3  49.1 29.6  45     29      21.4 "
      ]
     },
     "metadata": {},
     "output_type": "display_data"
    }
   ],
   "source": [
    "BodyFat[39,]"
   ]
  },
  {
   "cell_type": "markdown",
   "metadata": {},
   "source": [
    "After we delete the 42th point the 39th point seems to be a potential outlier, then we look back to the raw data and find out the 39th data has weight of 363.15 which is abnormal. In order to not violate our purpose of finding a general model we also delete this point."
   ]
  },
  {
   "cell_type": "code",
   "execution_count": 392,
   "metadata": {},
   "outputs": [
    {
     "data": {
      "image/png": "[encoded data removed]",
      "text/plain": [
       "Plot with title \"\""
      ]
     },
     "metadata": {},
     "output_type": "display_data"
    }
   ],
   "source": [
    "model2 <- lm(BODYFAT~., data=BodyFat[-c(39,42,182),c(-1,-3)]);layout(matrix(1:4, ncol=4));options(repr.plot.width=7, repr.plot.height=2);plot(model2)"
   ]
  },
  {
   "cell_type": "code",
   "execution_count": 393,
   "metadata": {
    "scrolled": true
   },
   "outputs": [
    {
     "data": {
      "text/html": [
       "<table>\n",
       "<thead><tr><th></th><th scope=col>BODYFAT</th><th scope=col>AGE</th><th scope=col>WEIGHT</th><th scope=col>HEIGHT</th><th scope=col>ADIPOSITY</th><th scope=col>NECK</th><th scope=col>CHEST</th><th scope=col>ABDOMEN</th><th scope=col>HIP</th><th scope=col>THIGH</th><th scope=col>KNEE</th><th scope=col>ANKLE</th><th scope=col>BICEPS</th><th scope=col>FOREARM</th><th scope=col>WRIST</th></tr></thead>\n",
       "<tbody>\n",
       "\t<tr><th scope=row>88</th><td>22.6   </td><td>64     </td><td>160.00 </td><td>167.005</td><td>26.0   </td><td>36.5   </td><td>104.3  </td><td>90.9   </td><td>93.8   </td><td>57.8   </td><td>39.5   </td><td>23.3   </td><td>29.2   </td><td>28.4   </td><td>18.1   </td></tr>\n",
       "\t<tr><th scope=row>227</th><td>14.9   </td><td>55     </td><td>169.50 </td><td>173.355</td><td>25.6   </td><td>37.2   </td><td>101.7  </td><td>91.1   </td><td>97.1   </td><td>56.6   </td><td>38.5   </td><td>22.6   </td><td>33.4   </td><td>29.3   </td><td>18.8   </td></tr>\n",
       "\t<tr><th scope=row>224</th><td> 6.1   </td><td>55     </td><td>142.25 </td><td>170.815</td><td>22.2   </td><td>35.2   </td><td> 92.7  </td><td>82.8   </td><td>91.9   </td><td>54.4   </td><td>35.2   </td><td>22.5   </td><td>29.4   </td><td>26.8   </td><td>17.0   </td></tr>\n",
       "\t<tr><th scope=row>210</th><td>11.3   </td><td>47     </td><td>159.75 </td><td>179.705</td><td>22.5   </td><td>34.5   </td><td> 92.9  </td><td>84.4   </td><td>94.0   </td><td>56.0   </td><td>38.2   </td><td>22.6   </td><td>29.0   </td><td>26.2   </td><td>17.6   </td></tr>\n",
       "</tbody>\n",
       "</table>\n"
      ],
      "text/latex": [
       "\\begin{tabular}{r|lllllllllllllll}\n",
       "  & BODYFAT & AGE & WEIGHT & HEIGHT & ADIPOSITY & NECK & CHEST & ABDOMEN & HIP & THIGH & KNEE & ANKLE & BICEPS & FOREARM & WRIST\\\\\n",
       "\\hline\n",
       "\t88 & 22.6    & 64      & 160.00  & 167.005 & 26.0    & 36.5    & 104.3   & 90.9    & 93.8    & 57.8    & 39.5    & 23.3    & 29.2    & 28.4    & 18.1   \\\\\n",
       "\t227 & 14.9    & 55      & 169.50  & 173.355 & 25.6    & 37.2    & 101.7   & 91.1    & 97.1    & 56.6    & 38.5    & 22.6    & 33.4    & 29.3    & 18.8   \\\\\n",
       "\t224 &  6.1    & 55      & 142.25  & 170.815 & 22.2    & 35.2    &  92.7   & 82.8    & 91.9    & 54.4    & 35.2    & 22.5    & 29.4    & 26.8    & 17.0   \\\\\n",
       "\t210 & 11.3    & 47      & 159.75  & 179.705 & 22.5    & 34.5    &  92.9   & 84.4    & 94.0    & 56.0    & 38.2    & 22.6    & 29.0    & 26.2    & 17.6   \\\\\n",
       "\\end{tabular}\n"
      ],
      "text/markdown": [
       "\n",
       "| <!--/--> | BODYFAT | AGE | WEIGHT | HEIGHT | ADIPOSITY | NECK | CHEST | ABDOMEN | HIP | THIGH | KNEE | ANKLE | BICEPS | FOREARM | WRIST | \n",
       "|---|---|---|---|\n",
       "| 88 | 22.6    | 64      | 160.00  | 167.005 | 26.0    | 36.5    | 104.3   | 90.9    | 93.8    | 57.8    | 39.5    | 23.3    | 29.2    | 28.4    | 18.1    | \n",
       "| 227 | 14.9    | 55      | 169.50  | 173.355 | 25.6    | 37.2    | 101.7   | 91.1    | 97.1    | 56.6    | 38.5    | 22.6    | 33.4    | 29.3    | 18.8    | \n",
       "| 224 |  6.1    | 55      | 142.25  | 170.815 | 22.2    | 35.2    |  92.7   | 82.8    | 91.9    | 54.4    | 35.2    | 22.5    | 29.4    | 26.8    | 17.0    | \n",
       "| 210 | 11.3    | 47      | 159.75  | 179.705 | 22.5    | 34.5    |  92.9   | 84.4    | 94.0    | 56.0    | 38.2    | 22.6    | 29.0    | 26.2    | 17.6    | \n",
       "\n",
       "\n"
      ],
      "text/plain": [
       "    BODYFAT AGE WEIGHT HEIGHT  ADIPOSITY NECK CHEST ABDOMEN HIP  THIGH KNEE\n",
       "88  22.6    64  160.00 167.005 26.0      36.5 104.3 90.9    93.8 57.8  39.5\n",
       "227 14.9    55  169.50 173.355 25.6      37.2 101.7 91.1    97.1 56.6  38.5\n",
       "224  6.1    55  142.25 170.815 22.2      35.2  92.7 82.8    91.9 54.4  35.2\n",
       "210 11.3    47  159.75 179.705 22.5      34.5  92.9 84.4    94.0 56.0  38.2\n",
       "    ANKLE BICEPS FOREARM WRIST\n",
       "88  23.3  29.2   28.4    18.1 \n",
       "227 22.6  33.4   29.3    18.8 \n",
       "224 22.5  29.4   26.8    17.0 \n",
       "210 22.6  29.0   26.2    17.6 "
      ]
     },
     "metadata": {},
     "output_type": "display_data"
    }
   ],
   "source": [
    "bodyfat<-BodyFat[-c(39,42,182),c(-1,-3)]\n",
    "bodyfat[c(86,224,221,207),]"
   ]
  },
  {
   "cell_type": "markdown",
   "metadata": {},
   "source": [
    "The set c(86,224,221,207) still shows up as outliers. They also seem to be outside of the bands then we go back to the raw data and see what’s the problem with these points. But actually those data are pretty reasonable we can’t simply delete any data so we decide to keep those data.\n",
    "\n",
    "First we try to use criteria Mallow’s cp and adjusted R2 to select model but turns out the results is not very good and keeps so many variables or it has variables which is not significance. Based on the goal of simplicity we don’t use those models.\n",
    "# Variable selection and model analysis"
   ]
  },
  {
   "cell_type": "code",
   "execution_count": 421,
   "metadata": {
    "scrolled": true
   },
   "outputs": [
    {
     "data": {
      "text/html": [
       "<table>\n",
       "<thead><tr><th></th><th scope=col>Df</th><th scope=col>Sum Sq</th><th scope=col>Mean Sq</th><th scope=col>F value</th><th scope=col>Pr(&gt;F)</th></tr></thead>\n",
       "<tbody>\n",
       "\t<tr><th scope=row>AGE</th><td>  1         </td><td>1227.23825  </td><td>1227.23825  </td><td> 80.0315787 </td><td>1.021718e-16</td></tr>\n",
       "\t<tr><th scope=row>ADIPOSITY</th><td>  1         </td><td>7217.60464  </td><td>7217.60464  </td><td>470.6798305 </td><td>1.676548e-58</td></tr>\n",
       "\t<tr><th scope=row>NECK</th><td>  1         </td><td> 191.74745  </td><td> 191.74745  </td><td> 12.5043782 </td><td>4.871402e-04</td></tr>\n",
       "\t<tr><th scope=row>CHEST</th><td>  1         </td><td>  34.80799  </td><td>  34.80799  </td><td>  2.2699246 </td><td>1.332214e-01</td></tr>\n",
       "\t<tr><th scope=row>ABDOMEN</th><td>  1         </td><td>1606.33013  </td><td>1606.33013  </td><td>104.7532014 </td><td>1.231361e-20</td></tr>\n",
       "\t<tr><th scope=row>HIP</th><td>  1         </td><td> 140.24580  </td><td> 140.24580  </td><td>  9.1458141 </td><td>2.763730e-03</td></tr>\n",
       "\t<tr><th scope=row>FOREARM</th><td>  1         </td><td>   6.59588  </td><td>   6.59588  </td><td>  0.4301354 </td><td>5.125507e-01</td></tr>\n",
       "\t<tr><th scope=row>WRIST</th><td>  1         </td><td> 231.49456  </td><td> 231.49456  </td><td> 15.0963962 </td><td>1.321898e-04</td></tr>\n",
       "\t<tr><th scope=row>Residuals</th><td>240         </td><td>3680.26204  </td><td>  15.33443  </td><td>         NA </td><td>          NA</td></tr>\n",
       "</tbody>\n",
       "</table>\n"
      ],
      "text/latex": [
       "\\begin{tabular}{r|lllll}\n",
       "  & Df & Sum Sq & Mean Sq & F value & Pr(>F)\\\\\n",
       "\\hline\n",
       "\tAGE &   1          & 1227.23825   & 1227.23825   &  80.0315787  & 1.021718e-16\\\\\n",
       "\tADIPOSITY &   1          & 7217.60464   & 7217.60464   & 470.6798305  & 1.676548e-58\\\\\n",
       "\tNECK &   1          &  191.74745   &  191.74745   &  12.5043782  & 4.871402e-04\\\\\n",
       "\tCHEST &   1          &   34.80799   &   34.80799   &   2.2699246  & 1.332214e-01\\\\\n",
       "\tABDOMEN &   1          & 1606.33013   & 1606.33013   & 104.7532014  & 1.231361e-20\\\\\n",
       "\tHIP &   1          &  140.24580   &  140.24580   &   9.1458141  & 2.763730e-03\\\\\n",
       "\tFOREARM &   1          &    6.59588   &    6.59588   &   0.4301354  & 5.125507e-01\\\\\n",
       "\tWRIST &   1          &  231.49456   &  231.49456   &  15.0963962  & 1.321898e-04\\\\\n",
       "\tResiduals & 240          & 3680.26204   &   15.33443   &          NA  &           NA\\\\\n",
       "\\end{tabular}\n"
      ],
      "text/markdown": [
       "\n",
       "| <!--/--> | Df | Sum Sq | Mean Sq | F value | Pr(>F) | \n",
       "|---|---|---|---|---|---|---|---|---|\n",
       "| AGE |   1          | 1227.23825   | 1227.23825   |  80.0315787  | 1.021718e-16 | \n",
       "| ADIPOSITY |   1          | 7217.60464   | 7217.60464   | 470.6798305  | 1.676548e-58 | \n",
       "| NECK |   1          |  191.74745   |  191.74745   |  12.5043782  | 4.871402e-04 | \n",
       "| CHEST |   1          |   34.80799   |   34.80799   |   2.2699246  | 1.332214e-01 | \n",
       "| ABDOMEN |   1          | 1606.33013   | 1606.33013   | 104.7532014  | 1.231361e-20 | \n",
       "| HIP |   1          |  140.24580   |  140.24580   |   9.1458141  | 2.763730e-03 | \n",
       "| FOREARM |   1          |    6.59588   |    6.59588   |   0.4301354  | 5.125507e-01 | \n",
       "| WRIST |   1          |  231.49456   |  231.49456   |  15.0963962  | 1.321898e-04 | \n",
       "| Residuals | 240          | 3680.26204   |   15.33443   |          NA  |           NA | \n",
       "\n",
       "\n"
      ],
      "text/plain": [
       "          Df  Sum Sq     Mean Sq    F value     Pr(>F)      \n",
       "AGE         1 1227.23825 1227.23825  80.0315787 1.021718e-16\n",
       "ADIPOSITY   1 7217.60464 7217.60464 470.6798305 1.676548e-58\n",
       "NECK        1  191.74745  191.74745  12.5043782 4.871402e-04\n",
       "CHEST       1   34.80799   34.80799   2.2699246 1.332214e-01\n",
       "ABDOMEN     1 1606.33013 1606.33013 104.7532014 1.231361e-20\n",
       "HIP         1  140.24580  140.24580   9.1458141 2.763730e-03\n",
       "FOREARM     1    6.59588    6.59588   0.4301354 5.125507e-01\n",
       "WRIST       1  231.49456  231.49456  15.0963962 1.321898e-04\n",
       "Residuals 240 3680.26204   15.33443          NA           NA"
      ]
     },
     "metadata": {},
     "output_type": "display_data"
    },
    {
     "name": "stdout",
     "output_type": "stream",
     "text": [
      "R squared = 0.73  MSE = 15.33"
     ]
    }
   ],
   "source": [
    "model = lm(BODYFAT~.,data=bodyfat);model.AIC <- step(model, k=2,trace = 0);anova(model.AIC)\n",
    "cat(\"R square =\",round(summary(model.AIC)$adj.r.squared,2),\" MSE =\",round(anova(model.AIC)$`Mean Sq`[9],2))"
   ]
  },
  {
   "cell_type": "markdown",
   "metadata": {},
   "source": [
    "Here, the result of stepwise using AIC as criterion shows that eight variables are selected out. P-values of age, adiposity, chest, abdomen, wrist are smaller than 0.05; neck, hip have p-values which are smaller than 0.1. And the eight varibles together can explain 73% of the total variation. Besides, mean squared error of this model is 15.3."
   ]
  },
  {
   "cell_type": "code",
   "execution_count": 396,
   "metadata": {
    "scrolled": true
   },
   "outputs": [
    {
     "data": {
      "image/png": "[encoded data removed]",
      "text/plain": [
       "Plot with title \"Residuals Plot\""
      ]
     },
     "metadata": {},
     "output_type": "display_data"
    }
   ],
   "source": [
    "options(repr.plot.width=8, repr.plot.height=2.5);layout(matrix(1:2,ncol=2));\n",
    "qqnorm(model.AIC$residuals);qqline(model.AIC$residuals, col = \"red\");plot(model.AIC$fitted.values,model.AIC$residuals, main = \"Residuals Plot\")"
   ]
  },
  {
   "cell_type": "markdown",
   "metadata": {},
   "source": [
    "QQ-plot shows that the residuals satisfy the normal distribution requirement."
   ]
  },
  {
   "cell_type": "markdown",
   "metadata": {},
   "source": [
    "We also used BIC as the criterion in stepwise, five variable are seleted out as a result."
   ]
  },
  {
   "cell_type": "code",
   "execution_count": 423,
   "metadata": {},
   "outputs": [
    {
     "data": {
      "text/html": [
       "<table>\n",
       "<thead><tr><th></th><th scope=col>Df</th><th scope=col>Sum Sq</th><th scope=col>Mean Sq</th><th scope=col>F value</th><th scope=col>Pr(&gt;F)</th></tr></thead>\n",
       "<tbody>\n",
       "\t<tr><th scope=row>AGE</th><td>  1         </td><td>1227.238254 </td><td>1227.238254 </td><td> 78.6026123 </td><td>1.663978e-16</td></tr>\n",
       "\t<tr><th scope=row>ADIPOSITY</th><td>  1         </td><td>7217.604641 </td><td>7217.604641 </td><td>462.2758271 </td><td>3.758686e-58</td></tr>\n",
       "\t<tr><th scope=row>CHEST</th><td>  1         </td><td>   1.778667 </td><td>   1.778667 </td><td>  0.1139207 </td><td>7.360152e-01</td></tr>\n",
       "\t<tr><th scope=row>ABDOMEN</th><td>  1         </td><td>1576.324765 </td><td>1576.324765 </td><td>100.9610349 </td><td>4.325031e-20</td></tr>\n",
       "\t<tr><th scope=row>WRIST</th><td>  1         </td><td> 519.372979 </td><td> 519.372979 </td><td> 33.2649938 </td><td>2.434005e-08</td></tr>\n",
       "\t<tr><th scope=row>Residuals</th><td>243         </td><td>3794.007441 </td><td>  15.613199 </td><td>         NA </td><td>          NA</td></tr>\n",
       "</tbody>\n",
       "</table>\n"
      ],
      "text/latex": [
       "\\begin{tabular}{r|lllll}\n",
       "  & Df & Sum Sq & Mean Sq & F value & Pr(>F)\\\\\n",
       "\\hline\n",
       "\tAGE &   1          & 1227.238254  & 1227.238254  &  78.6026123  & 1.663978e-16\\\\\n",
       "\tADIPOSITY &   1          & 7217.604641  & 7217.604641  & 462.2758271  & 3.758686e-58\\\\\n",
       "\tCHEST &   1          &    1.778667  &    1.778667  &   0.1139207  & 7.360152e-01\\\\\n",
       "\tABDOMEN &   1          & 1576.324765  & 1576.324765  & 100.9610349  & 4.325031e-20\\\\\n",
       "\tWRIST &   1          &  519.372979  &  519.372979  &  33.2649938  & 2.434005e-08\\\\\n",
       "\tResiduals & 243          & 3794.007441  &   15.613199  &          NA  &           NA\\\\\n",
       "\\end{tabular}\n"
      ],
      "text/markdown": [
       "\n",
       "| <!--/--> | Df | Sum Sq | Mean Sq | F value | Pr(>F) | \n",
       "|---|---|---|---|---|---|\n",
       "| AGE |   1          | 1227.238254  | 1227.238254  |  78.6026123  | 1.663978e-16 | \n",
       "| ADIPOSITY |   1          | 7217.604641  | 7217.604641  | 462.2758271  | 3.758686e-58 | \n",
       "| CHEST |   1          |    1.778667  |    1.778667  |   0.1139207  | 7.360152e-01 | \n",
       "| ABDOMEN |   1          | 1576.324765  | 1576.324765  | 100.9610349  | 4.325031e-20 | \n",
       "| WRIST |   1          |  519.372979  |  519.372979  |  33.2649938  | 2.434005e-08 | \n",
       "| Residuals | 243          | 3794.007441  |   15.613199  |          NA  |           NA | \n",
       "\n",
       "\n"
      ],
      "text/plain": [
       "          Df  Sum Sq      Mean Sq     F value     Pr(>F)      \n",
       "AGE         1 1227.238254 1227.238254  78.6026123 1.663978e-16\n",
       "ADIPOSITY   1 7217.604641 7217.604641 462.2758271 3.758686e-58\n",
       "CHEST       1    1.778667    1.778667   0.1139207 7.360152e-01\n",
       "ABDOMEN     1 1576.324765 1576.324765 100.9610349 4.325031e-20\n",
       "WRIST       1  519.372979  519.372979  33.2649938 2.434005e-08\n",
       "Residuals 243 3794.007441   15.613199          NA           NA"
      ]
     },
     "metadata": {},
     "output_type": "display_data"
    },
    {
     "name": "stdout",
     "output_type": "stream",
     "text": [
      "R square = 0.73  MSE = 15.61"
     ]
    }
   ],
   "source": [
    "model.BIC <- step(model, k=log(249),trace=0);anova(model.BIC)\n",
    "cat(\"R square =\",round(summary(model.BIC)$adj.r.squared,2),\" MSE =\",round(anova(model.BIC)$`Mean Sq`[6],2))"
   ]
  },
  {
   "cell_type": "markdown",
   "metadata": {},
   "source": [
    "All the five varibles are statistically significant with p-values smaller that 0.05. These five varibles together can explain 72.99% to the total variation. Besides, mean square error of this model is 15.61."
   ]
  },
  {
   "cell_type": "code",
   "execution_count": 400,
   "metadata": {},
   "outputs": [
    {
     "data": {
      "image/png": "[encoded data removed]",
      "text/plain": [
       "Plot with title \"Residuals Plot\""
      ]
     },
     "metadata": {},
     "output_type": "display_data"
    }
   ],
   "source": [
    "options(repr.plot.width=8, repr.plot.height=2.5);layout(matrix(1:2,ncol=2))\n",
    "qqnorm(model.BIC$residuals); qqline(model.BIC$residuals, col = \"red\");plot(model.BIC$fitted.values,model.BIC$residuals, main = \"Residuals Plot\")"
   ]
  },
  {
   "cell_type": "markdown",
   "metadata": {},
   "source": [
    "QQ-plot shows that the residuals satisfy the normal distribution requirement."
   ]
  },
  {
   "cell_type": "markdown",
   "metadata": {},
   "source": [
    "Comparing the two models, BIC contains variables three less than AIC method, but has the almost same R-square and MSE with AIC. Thus, we'd like to use the model generated based on BIC as our final model, which is **\n",
    "**$$BODYFAT = 0.0797AGE + 0.5329ADIPOSITY - 0.2211NECK + 0.7044ABDOMEN - 2.0945WRIST - 2.8048$$ "
   ]
  },
  {
   "cell_type": "markdown",
   "metadata": {},
   "source": [
    "And the coefficients confidence intervals are as following."
   ]
  },
  {
   "cell_type": "code",
   "execution_count": 401,
   "metadata": {},
   "outputs": [
    {
     "data": {
      "text/html": [
       "<table>\n",
       "<thead><tr><th></th><th scope=col>(Intercept)</th><th scope=col>AGE</th><th scope=col>ADIPOSITY</th><th scope=col>CHEST</th><th scope=col>ABDOMEN</th><th scope=col>WRIST</th></tr></thead>\n",
       "<tbody>\n",
       "\t<tr><th scope=row>low</th><td>-13.943524 </td><td>0.03806503 </td><td>0.1025636  </td><td>-0.39196715</td><td>0.5649153  </td><td>-2.806277  </td></tr>\n",
       "\t<tr><th scope=row>high</th><td>  8.333949 </td><td>0.12134463 </td><td>0.9632695  </td><td>-0.05026772</td><td>0.8438958  </td><td>-1.382745  </td></tr>\n",
       "</tbody>\n",
       "</table>\n"
      ],
      "text/latex": [
       "\\begin{tabular}{r|llllll}\n",
       "  & (Intercept) & AGE & ADIPOSITY & CHEST & ABDOMEN & WRIST\\\\\n",
       "\\hline\n",
       "\tlow & -13.943524  & 0.03806503  & 0.1025636   & -0.39196715 & 0.5649153   & -2.806277  \\\\\n",
       "\thigh &   8.333949  & 0.12134463  & 0.9632695   & -0.05026772 & 0.8438958   & -1.382745  \\\\\n",
       "\\end{tabular}\n"
      ],
      "text/markdown": [
       "\n",
       "| <!--/--> | (Intercept) | AGE | ADIPOSITY | CHEST | ABDOMEN | WRIST | \n",
       "|---|---|\n",
       "| low | -13.943524  | 0.03806503  | 0.1025636   | -0.39196715 | 0.5649153   | -2.806277   | \n",
       "| high |   8.333949  | 0.12134463  | 0.9632695   | -0.05026772 | 0.8438958   | -1.382745   | \n",
       "\n",
       "\n"
      ],
      "text/plain": [
       "     (Intercept) AGE        ADIPOSITY CHEST       ABDOMEN   WRIST    \n",
       "low  -13.943524  0.03806503 0.1025636 -0.39196715 0.5649153 -2.806277\n",
       "high   8.333949  0.12134463 0.9632695 -0.05026772 0.8438958 -1.382745"
      ]
     },
     "metadata": {},
     "output_type": "display_data"
    }
   ],
   "source": [
    "rbind(low = coef.BIC[,1] - qnorm(p = 0.975) * coef.BIC[,2], high = coef.BIC[,1] + qnorm(p = 0.975) * coef.BIC[,2])"
   ]
  },
  {
   "cell_type": "markdown",
   "metadata": {},
   "source": [
    "Therefore, in our model, if age goes up by one year in average, the bodyfat will increases\n",
    "0.0797 unit; if adiposity increases by one unit in average, bodyfat will increase 0.5329 unit; if\n",
    "neck circumference increases by one centimeter in average, bodyfat will decrease 0.2211 unit;\n",
    "if abdomen circumference increases by one centimeter in average, bodyfat will increase 0.7044\n",
    "unit; if wrist circumference increases by one centimeter in average, bodyfat will decrease\n",
    "2.0945 unit."
   ]
  },
  {
   "cell_type": "code",
   "execution_count": 411,
   "metadata": {},
   "outputs": [
    {
     "data": {
      "image/png": "[encoded data removed]",
      "text/plain": [
       "Plot with title \"Predicted Values with Interval\""
      ]
     },
     "metadata": {},
     "output_type": "display_data"
    }
   ],
   "source": [
    "options(repr.plot.width=8, repr.plot.height=4)\n",
    "model.BIC.pre = data.frame(predict(model.BIC,interval=\"confidence\"));model.BIC.pre$x = seq(nrow(model.BIC.pre))\n",
    "plot(fit ~ x, data = model.BIC.pre, ylim = range(c(model.BIC.pre$lwr,model.BIC.pre$upr)), main = \"Predicted Values with Interval\",cex=0.5,xlab=\"\")\n",
    "with(model.BIC.pre, polygon(c(x,rev(x)), c(lwr,rev(upr)),col = \"grey75\", border = FALSE))\n",
    "matlines(model.BIC.pre[,4], model.BIC.pre[,-4], lwd=c(2,1,1),lty=1,col=c(\"blue\",\"red\",\"red\"))"
   ]
  },
  {
   "cell_type": "code",
   "execution_count": 407,
   "metadata": {},
   "outputs": [
    {
     "data": {},
     "metadata": {},
     "output_type": "display_data"
    },
    {
     "data": {
      "image/png": "[encoded data removed]",
      "text/plain": [
       "plot without title"
      ]
     },
     "metadata": {},
     "output_type": "display_data"
    }
   ],
   "source": [
    "library(ggplot2);options(repr.plot.width=8, repr.plot.height=2);ggplot()+geom_line(aes(c(1:249,1:249),c(model.BIC.pre$fit,bodyfat$BODYFAT),color=as.factor(rep(c(\"Predicted value\",\"True value\"),each=249))))+\n",
    "theme(legend.title=element_blank(),axis.title=element_blank())+ggtitle(\"Predicted Value VS True Value\")"
   ]
  },
  {
   "cell_type": "markdown",
   "metadata": {},
   "source": [
    "# Conclusion and model evaluation  \n",
    "Our Proposed SLR Model is:$$BODYFAT=-3+0.08AGE+0.5ADIPOSITY-0.2CHEST+0.7ABDOMEN-2WRIST$$\n",
    "**Possible rule of thumb**: \"0.08 times age(year), plus 0.5 times adiposity(BMI), minus 0.2 times chest circumstance(cm), plus 0.7 times abdomen circumstance(cm), minus 2 times wrist circumstance(cm), minus 3.\"  \n",
    "**Example Usage:**\"Take the 37st person in the sample data as an example, with age 40 years old, BMI 29.1, chest circumstance 106.5cm, abdomen circumstance 100.9cm, and wrist circumstance 19.0cm, then his predicted body fat percentage will be 23.62 while the true value is 23.6. There is a 95% probability that his body fat is between 22.72 and 24.51.\"  \n",
    "\n",
    "\"With the rule of thumb, you get about 25.08 as the predicted body fat with our simplified model.\"  \n",
    "**Inference about Relationship: **There is clearly a linear relationship between age, adiposity, chest, abdomen and wrist and this relationship is significant at the alpha=0.05 level (with p-value $2.2*10^{-16}$). These five variables explain about 72.99% of all the variation in body fat %.  \n",
    "**Strength and Weakness**  \n",
    "***Strength:*** *1.*The model contains only few variables, which greatly reduces doctors’ measuring job.*2.*A big enough R square, as well as a small MSE, indicating our model is effective for prediction. *3.*Eliminates influential outliers to ensure the efficiency of the sample data. *4.*The effect of prediction is good with a relative small MSE. *5.*All variables selected are statistically significant.  \n",
    "***Weakness:*** *1.*Length unit is centimeter, doctors may need to do the length transformation. Multicollinearity exists, but principle component here doesn’t perform better. *2.* There are indeed some other factors related to body fat, like water balance and bone index, which are not examined in our data, thus, it’s hard for us to explain some coefficients in our final model.\n",
    "\n",
    "\n",
    "Overall, our model provides a very simple way of guessing the body fat% based on AGE, ADIPOSITY, CHEST, ABDOMEN and WRIST. However, because of this simplicity, our predictions aren’t very precise, and because of the multicollinearity, the coefficients of WRIST and CHEST are not that reasonable.  "
   ]
  },
  {
   "cell_type": "markdown",
   "metadata": {},
   "source": [
    "**Contribution**  \n",
    "*Jing Guo*: Slides; model building; model interpretation  \n",
    "*Jiayin Wang*: Data cleaning; prediction; model interpretation  \n",
    "*Wenqin Xiong*: Jupyter notebook; model building; model interpretation  \n",
    "*Shaodong Wang*: Jupyter notebook; prediction; model interpretation  "
   ]
  }
 ],
 "metadata": {
  "kernelspec": {
   "display_name": "R",
   "language": "R",
   "name": "ir"
  },
  "language_info": {
   "codemirror_mode": "r",
   "file_extension": ".r",
   "mimetype": "text/x-r-source",
   "name": "R",
   "pygments_lexer": "r",
   "version": "3.4.2"
  }
 },
 "nbformat": 4,
 "nbformat_minor": 2
}
